{
 "cells": [
  {
   "cell_type": "markdown",
   "metadata": {},
   "source": [
    "## Code to detect loops in linked list"
   ]
  },
  {
   "cell_type": "code",
   "execution_count": 13,
   "metadata": {},
   "outputs": [
    {
     "name": "stdout",
     "output_type": "stream",
     "text": [
      "The list has loop ? - True\n",
      "The list has loop ? - False\n"
     ]
    }
   ],
   "source": [
    "class ListNode:\n",
    "    def __init__(self, value=0, next=None):\n",
    "        self.value = value\n",
    "        self.next = next\n",
    "\n",
    "def has_loop(head):\n",
    "    if head is None:\n",
    "        return False\n",
    "\n",
    "    slow = head  # Tortoise moves one step at a time\n",
    "    fast = head  # Hare moves two steps at a time\n",
    "\n",
    "    while fast and fast.next:\n",
    "        slow = slow.next        # Move tortoise\n",
    "        fast = fast.next.next   # Move hare\n",
    "        if slow == fast:\n",
    "            return True\n",
    "\n",
    "    # If we get here, hare has reached the end of the list, so no loop\n",
    "    return False\n",
    "\n",
    "# Example usage\n",
    "node1 = ListNode('A')\n",
    "node2 = ListNode('B')\n",
    "node3 = ListNode('C')\n",
    "node4 = ListNode('D')\n",
    "node1.next = node2\n",
    "node2.next = node3\n",
    "node3.next = node4  \n",
    "node4.next = node1  # Creates a loop: A -> B -> C -> D -> A\n",
    "\n",
    "print(f'The list has loop ? - {has_loop(node1)}')  # Will return True\n",
    "\n",
    "# For a list with no loop\n",
    "node1 = ListNode('A')\n",
    "node2 = ListNode('C')\n",
    "node3 = ListNode('D')\n",
    "node1.next = node2\n",
    "node2.next = node3\n",
    "\n",
    "print(f'The list has loop ? - {has_loop(node1)}')  # Will return True\n"
   ]
  },
  {
   "cell_type": "code",
   "execution_count": null,
   "metadata": {},
   "outputs": [],
   "source": []
  }
 ],
 "metadata": {
  "kernelspec": {
   "display_name": "Python 3",
   "language": "python",
   "name": "python3"
  },
  "language_info": {
   "codemirror_mode": {
    "name": "ipython",
    "version": 3
   },
   "file_extension": ".py",
   "mimetype": "text/x-python",
   "name": "python",
   "nbconvert_exporter": "python",
   "pygments_lexer": "ipython3",
   "version": "3.11.2"
  }
 },
 "nbformat": 4,
 "nbformat_minor": 2
}
